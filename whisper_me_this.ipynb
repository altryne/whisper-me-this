{
  "nbformat": 4,
  "nbformat_minor": 0,
  "metadata": {
    "colab": {
      "private_outputs": true,
      "provenance": [],
      "machine_shape": "hm",
      "collapsed_sections": [],
      "authorship_tag": "ABX9TyPlBaxUjcKBulYdu74/J2to",
      "include_colab_link": true
    },
    "kernelspec": {
      "name": "python3",
      "display_name": "Python 3"
    },
    "language_info": {
      "name": "python"
    },
    "accelerator": "GPU",
    "gpuClass": "standard"
  },
  "cells": [
    {
      "cell_type": "markdown",
      "metadata": {
        "id": "view-in-github",
        "colab_type": "text"
      },
      "source": [
        "<a href=\"https://colab.research.google.com/github/altryne/whisper-me-this/blob/main/whisper_me_this.ipynb\" target=\"_parent\"><img src=\"https://colab.research.google.com/assets/colab-badge.svg\" alt=\"Open In Colab\"/></a>"
      ]
    },
    {
      "cell_type": "markdown",
      "source": [
        "# Whisper me this - Add subtitles to any video downloadable with yt-download by [@altryne](https://twitter.com/altryne) [![ko-fi](https://ko-fi.com/img/githubbutton_sm.svg)](https://ko-fi.com/N4N3DWMR1)\n"
      ],
      "metadata": {
        "id": "xIJcmCwc_ybP"
      }
    },
    {
      "cell_type": "code",
      "source": [
        "#@title <font size=\"5\">⬇️ ឵឵<i>Build Requirements</font> { vertical-output: true }\n",
        "import os, uuid, re, IPython\n",
        "import ipywidgets as widgets\n",
        "import time\n",
        "\n",
        "from glob import glob\n",
        "from google.colab import output, drive\n",
        "\n",
        "from IPython.display import clear_output\n",
        "import os, sys, urllib.request\n",
        "HOME = os.path.expanduser(\"~\")\n",
        "pathDoneCMD = f'{HOME}/doneCMD.sh'\n",
        "if not os.path.exists(f\"{HOME}/.ipython/ttmg.py\"):\n",
        "    hCode = \"https://raw.githubusercontent.com/yunooooo/gcct/master/res/ttmg.py\"\n",
        "    urllib.request.urlretrieve(hCode, f\"{HOME}/.ipython/ttmg.py\")\n",
        "\n",
        "from ttmg import (\n",
        "    loadingAn,\n",
        "    textAn,\n",
        ")\n",
        "\n",
        "loadingAn(name=\"lds\")\n",
        "textAn(\"Cloning Repositories...\", ty='twg')\n",
        "!git clone https://github.com/XniceCraft/ffmpeg-colab.git\n",
        "!chmod 755 ./ffmpeg-colab/install\n",
        "textAn(\"Installing FFmpeg...\", ty='twg')\n",
        "!./ffmpeg-colab/install\n",
        "clear_output()\n",
        "print('FFMPEG installed!')\n",
        "!rm -fr /content/ffmpeg-colab\n",
        "textAn(\"Installing whisper and auto-subtitle\", ty='twg')\n",
        "\n",
        "!pip install git+https://github.com/m1guelpf/auto-subtitle.git\n",
        "!pip install -U kora\n",
        "\n",
        "clear_output()\n",
        "print('Whisper and auto-subtitle installed')\n",
        "textAn(\"Installing youtube-dl\", ty='twg')\n",
        "!pip install youtube-dl\n",
        "clear_output()\n",
        "print('Installation complete. Please add a URL in the next box')"
      ],
      "metadata": {
        "id": "LMKssMq4AY6e",
        "cellView": "form"
      },
      "execution_count": null,
      "outputs": []
    },
    {
      "cell_type": "code",
      "source": [
        "#@title <font size=\"5\">⬇️ ឵឵<i>Add a URL</font> and configure settings  { vertical-output: true }\n",
        "\n",
        "#@markdown youtube-dl supports video URLs from youtube, twitter and many other sites. \n",
        "#@markdown if your provided URL didn't work, download manually and check `use_uploaded_file` and provide a path to your video\n",
        "\n",
        "url = \"https://www.youtube.com/watch?v=fj5cOpfSUvM\" #@param {type:\"string\"}\n",
        "\n",
        "use_uploaded_file = True #@param {type:\"boolean\"}\n",
        "\n",
        "uploaded_file_path = \"init_vid.mkv\" #@param {type:\"string\"}\n",
        "\n",
        "\n",
        "#@markdown Choose a Whisper model (chose .en if you know the source is english 100%)\n",
        "whisper_size = 'large' #@param [\"tiny.en\",\"tiny\",\"base.en\",\"base\",\"small.en\",\"small\",\"medium.en\",\"medium\",\"large\"] \n",
        "#@markdown Translate to english or only transcribe the audio in native language?\n",
        "task = 'transcribe' #@param [\"transcribe\", \"translate\"] "
      ],
      "metadata": {
        "id": "PrxY7FyiCQSO",
        "cellView": "form"
      },
      "execution_count": null,
      "outputs": []
    },
    {
      "cell_type": "code",
      "source": [
        "#@title <font size=\"5\">🎥 ឵឵<i>Download video</font> and start processing subtitles - may take a while  { vertical-output: true }\n",
        "try:\n",
        "  if not use_uploaded_file:\n",
        "    !youtube-dl {url} -o {filename}\n",
        "    filename = !youtube-dl --get-filename -o 'init_vid.%(ext)s' {url} --restrict-filenames\n",
        "\n",
        "    filename = filename[0]\n",
        "    print(f'Downloaded `{filename}`, starting subtitle additions')\n",
        "  else:\n",
        "    filename = uploaded_file_path\n",
        "  !auto_subtitle {filename} --model {whisper_size} --output_dir 'output' --task {task} \n",
        "except Exception as e:\n",
        "  print(\"oops, something went wrong\")\n",
        "  print(e)\n"
      ],
      "metadata": {
        "id": "GX6NosX5Ebor"
      },
      "execution_count": null,
      "outputs": []
    },
    {
      "cell_type": "code",
      "source": [
        "#@title <font size=\"5\">⬇️ ឵឵<i>Download subtitled video file</font>  { vertical-output: true }\n",
        "from google.colab import files\n",
        "\n",
        "files.download(f'output/{filename}')"
      ],
      "metadata": {
        "cellView": "form",
        "id": "1fGJ96rMnG6x"
      },
      "execution_count": null,
      "outputs": []
    }
  ]
}